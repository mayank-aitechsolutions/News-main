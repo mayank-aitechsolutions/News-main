{
 "cells": [
  {
   "cell_type": "code",
   "execution_count": 2,
   "metadata": {},
   "outputs": [],
   "source": [
    "from keybert import KeyBERT\n",
    "\n",
    "# Load the pre-trained BERT model\n",
    "model = KeyBERT('all-MiniLM-L6-v2')\n"
   ]
  },
  {
   "cell_type": "code",
   "execution_count": 4,
   "metadata": {},
   "outputs": [
    {
     "name": "stdout",
     "output_type": "stream",
     "text": [
      "Extracted Keywords:\n",
      "global diplomacy (score: 0.75)\n",
      "diplomacy geopolitical (score: 0.73)\n",
      "international relations (score: 0.66)\n",
      "diplomacy (score: 0.63)\n",
      "diplomacy challenges (score: 0.62)\n"
     ]
    }
   ],
   "source": [
    "# Example news article\n",
    "news_article = \"\"\"\n",
    "In an increasingly interconnected world, global diplomacy plays a critical role in maintaining peace, fostering economic growth, and addressing transnational challenges like climate change and cybersecurity. However, the landscape of international relations is undergoing significant shifts, driven by political, technological, and societal changes. This article explores the current state of global diplomacy, the challenges it faces, and the opportunities it offers for collaboration among nations.\n",
    "The Current State of Global Diplomacy\n",
    "A Complex and Changing Landscape\n",
    "Global diplomacy today reflects a dynamic and often turbulent international environment. Major powers like the United States, China, and the European Union are engaged in intense competition over trade, technology, and geopolitical influence. At the same time, multilateral organizations such as the United Nations and the World Trade Organization continue to play vital roles in addressing global challenges, despite criticism of their effectiveness.\n",
    "Regional Dynamics and Power Shifts\n",
    "Emerging economies, particularly in Asia and Africa, are becoming influential players on the global stage. This shift in power dynamics is reshaping international relations, with countries like India, Brazil, and South Africa advocating for more equitable representation in global decision-making forums.\n",
    "Challenges Facing Global Diplomacy\n",
    "Geopolitical Tensions\n",
    "Rising tensions between major powers, particularly the U.S. and China, have led to a more polarized world order. Disputes over trade, territorial sovereignty, and military presence in key regions continue to challenge diplomatic efforts.\n",
    "Climate Change\n",
    "Climate change is a pressing issue requiring global cooperation, but differing priorities among nations have hindered the progress of international agreements. Developing countries often seek greater financial support from wealthier nations to transition to sustainable practices.\n",
    "Technological Disruption\n",
    "The rapid advancement of technology has introduced new diplomatic challenges, including cybersecurity threats, misinformation campaigns, and ethical concerns about artificial intelligence. Governments must collaborate to establish norms and regulations for the digital age.\n",
    "Opportunities for Collaboration\n",
    "Strengthening Multilateral Institutions\n",
    "Revitalizing multilateral organizations offers an opportunity to enhance global diplomacy. Reforming institutions like the UN Security Council to better reflect current power dynamics could increase their legitimacy and effectiveness.\n",
    "Economic Partnerships\n",
    "Economic collaboration remains a cornerstone of international relations. Trade agreements, joint infrastructure projects, and investments in green technologies can help nations achieve shared goals while promoting economic growth.\n",
    "Public Diplomacy and People-to-People Connections\n",
    "Building stronger ties through cultural exchanges, educational programs, and international collaborations can foster mutual understanding and trust. Governments are increasingly leveraging public diplomacy to enhance their global image and influence.\n",
    "The Path Forward\n",
    "Adapting to a Multipolar World\n",
    "As the world becomes more multipolar, global diplomacy must evolve to accommodate diverse voices and perspectives. Encouraging dialogue among nations and emphasizing shared interests will be crucial to navigating complex geopolitical landscapes.\n",
    "Embracing Technology for Good\n",
    "Harnessing technology for diplomatic purposes, such as using AI for conflict prediction or blockchain for transparency in aid distribution, presents innovative ways to address global challenges.\n",
    "\n",
    "Conclusion\n",
    "Global diplomacy stands at a crossroads, with both formidable challenges and promising opportunities on the horizon. By fostering collaboration, embracing technological advancements, and strengthening multilateral frameworks, nations can work together to create a more stable and prosperous world. As we look to the future, the success of international relations will depend on the collective will of governments, institutions, and individuals to rise above divisions and act in the common interest.\n",
    "\n",
    "\"\"\"\n",
    "\n",
    "# Extract keywords\n",
    "keywords = model.extract_keywords(news_article, keyphrase_ngram_range=(1, 2), stop_words='english', top_n=5)\n",
    "\n",
    "# Print extracted keywords\n",
    "print(\"Extracted Keywords:\")\n",
    "for keyword, score in keywords:\n",
    "    print(f\"{keyword} (score: {score:.2f})\")"
   ]
  }
 ],
 "metadata": {
  "kernelspec": {
   "display_name": "ml_venv",
   "language": "python",
   "name": "python3"
  },
  "language_info": {
   "codemirror_mode": {
    "name": "ipython",
    "version": 3
   },
   "file_extension": ".py",
   "mimetype": "text/x-python",
   "name": "python",
   "nbconvert_exporter": "python",
   "pygments_lexer": "ipython3",
   "version": "3.12.3"
  }
 },
 "nbformat": 4,
 "nbformat_minor": 2
}
